{
 "cells": [
  {
   "cell_type": "code",
   "execution_count": 62,
   "metadata": {},
   "outputs": [],
   "source": [
    "import pandas as pd"
   ]
  },
  {
   "cell_type": "markdown",
   "metadata": {},
   "source": [
    "La funzione detect_anomalies Restituisce le entry del dataframe che hanno almeno <seconds_threshold> secondi di valori uguali. "
   ]
  },
  {
   "cell_type": "code",
   "execution_count": 63,
   "metadata": {},
   "outputs": [],
   "source": [
    "def detect_anomalies(accelerometer_df: pd.DataFrame, hand_type: str, seconds_threshold: int = 5) -> pd.DataFrame:\n",
    "    \"\"\"\n",
    "    Restituisce le entry del dataframe che hanno almeno <seconds_threshold> secondi di valori uguali\n",
    "    hand_type: D -> Mano dominante, ND -> Mano non dominante\n",
    "    \"\"\"\n",
    "    if hand_type != \"D\" and hand_type != \"ND\":\n",
    "        raise ValueError(\"hand_type deve essere 'D' o 'ND'\")\n",
    "    \n",
    "    campionamenti_per_secondo = 8 # l'accelerometro esegue 8 campionamenti al secondo\n",
    "    seconds_threshold = seconds_threshold*campionamenti_per_secondo\n",
    "\n",
    "    df_diff = accelerometer_df[[f'x_{hand_type}', f'y_{hand_type}', f'z_{hand_type}']].diff()\n",
    "    anomalies = df_diff.rolling(window=seconds_threshold).apply(lambda x: all(num == 0 for num in x)) # Recupera le righe che hanno almeno 5 secondi di valori uguali\n",
    "    anomaly_rows = accelerometer_df[anomalies.any(axis=1)]\n",
    "    return anomaly_rows"
   ]
  },
  {
   "cell_type": "code",
   "execution_count": 64,
   "metadata": {},
   "outputs": [
    {
     "data": {
      "text/html": [
       "<div>\n",
       "<style scoped>\n",
       "    .dataframe tbody tr th:only-of-type {\n",
       "        vertical-align: middle;\n",
       "    }\n",
       "\n",
       "    .dataframe tbody tr th {\n",
       "        vertical-align: top;\n",
       "    }\n",
       "\n",
       "    .dataframe thead th {\n",
       "        text-align: right;\n",
       "    }\n",
       "</style>\n",
       "<table border=\"1\" class=\"dataframe\">\n",
       "  <thead>\n",
       "    <tr style=\"text-align: right;\">\n",
       "      <th></th>\n",
       "      <th>datetime</th>\n",
       "      <th>x_D</th>\n",
       "      <th>y_D</th>\n",
       "      <th>z_D</th>\n",
       "      <th>x_ND</th>\n",
       "      <th>y_ND</th>\n",
       "      <th>z_ND</th>\n",
       "    </tr>\n",
       "  </thead>\n",
       "  <tbody>\n",
       "    <tr>\n",
       "      <th>7186</th>\n",
       "      <td>2017-05-04 00:01:29.825000</td>\n",
       "      <td>-0.949</td>\n",
       "      <td>0.020</td>\n",
       "      <td>0.273</td>\n",
       "      <td>-0.957</td>\n",
       "      <td>-0.004</td>\n",
       "      <td>0.273</td>\n",
       "    </tr>\n",
       "    <tr>\n",
       "      <th>7187</th>\n",
       "      <td>2017-05-04 00:01:29.837500</td>\n",
       "      <td>-0.949</td>\n",
       "      <td>0.023</td>\n",
       "      <td>0.273</td>\n",
       "      <td>-0.953</td>\n",
       "      <td>-0.004</td>\n",
       "      <td>0.277</td>\n",
       "    </tr>\n",
       "    <tr>\n",
       "      <th>7188</th>\n",
       "      <td>2017-05-04 00:01:29.850000</td>\n",
       "      <td>-0.949</td>\n",
       "      <td>0.020</td>\n",
       "      <td>0.277</td>\n",
       "      <td>-0.953</td>\n",
       "      <td>-0.004</td>\n",
       "      <td>0.277</td>\n",
       "    </tr>\n",
       "    <tr>\n",
       "      <th>7189</th>\n",
       "      <td>2017-05-04 00:01:29.862500</td>\n",
       "      <td>-0.949</td>\n",
       "      <td>0.023</td>\n",
       "      <td>0.273</td>\n",
       "      <td>-0.953</td>\n",
       "      <td>-0.004</td>\n",
       "      <td>0.273</td>\n",
       "    </tr>\n",
       "    <tr>\n",
       "      <th>7190</th>\n",
       "      <td>2017-05-04 00:01:29.875000</td>\n",
       "      <td>-0.949</td>\n",
       "      <td>0.023</td>\n",
       "      <td>0.273</td>\n",
       "      <td>-0.957</td>\n",
       "      <td>0.000</td>\n",
       "      <td>0.277</td>\n",
       "    </tr>\n",
       "  </tbody>\n",
       "</table>\n",
       "</div>"
      ],
      "text/plain": [
       "                        datetime    x_D    y_D    z_D   x_ND   y_ND   z_ND\n",
       "7186  2017-05-04 00:01:29.825000 -0.949  0.020  0.273 -0.957 -0.004  0.273\n",
       "7187  2017-05-04 00:01:29.837500 -0.949  0.023  0.273 -0.953 -0.004  0.277\n",
       "7188  2017-05-04 00:01:29.850000 -0.949  0.020  0.277 -0.953 -0.004  0.277\n",
       "7189  2017-05-04 00:01:29.862500 -0.949  0.023  0.273 -0.953 -0.004  0.273\n",
       "7190  2017-05-04 00:01:29.875000 -0.949  0.023  0.273 -0.957  0.000  0.277"
      ]
     },
     "execution_count": 64,
     "metadata": {},
     "output_type": "execute_result"
    }
   ],
   "source": [
    "df = pd.read_csv('../raw_data/1_week_RAW.csv', nrows=10000)\n",
    "detect_anomalies(df, \"D\", 3)"
   ]
  },
  {
   "cell_type": "code",
   "execution_count": null,
   "metadata": {},
   "outputs": [],
   "source": []
  }
 ],
 "metadata": {
  "kernelspec": {
   "display_name": "Python 3",
   "language": "python",
   "name": "python3"
  },
  "language_info": {
   "codemirror_mode": {
    "name": "ipython",
    "version": 3
   },
   "file_extension": ".py",
   "mimetype": "text/x-python",
   "name": "python",
   "nbconvert_exporter": "python",
   "pygments_lexer": "ipython3",
   "version": "3.9.16"
  }
 },
 "nbformat": 4,
 "nbformat_minor": 2
}
