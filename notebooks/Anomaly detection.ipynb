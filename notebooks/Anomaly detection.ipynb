{
 "cells": [
  {
   "cell_type": "code",
   "execution_count": null,
   "metadata": {},
   "outputs": [],
   "source": [
    "import pandas as pd\n",
    "import matplotlib.pyplot as plt\n",
    "import numpy as np"
   ]
  },
  {
   "cell_type": "markdown",
   "metadata": {},
   "source": [
    "La funzione detect_anomalies Restituisce le entry del dataframe che hanno almeno <seconds_threshold> secondi di valori uguali. "
   ]
  },
  {
   "cell_type": "code",
   "execution_count": null,
   "metadata": {},
   "outputs": [],
   "source": [
    "def detect_anomalies_old(accelerometer_df: pd.DataFrame, hand_type: str, seconds_threshold: int = 5) -> pd.DataFrame:\n",
    "    \"\"\"\n",
    "    Restituisce le entry del dataframe che hanno almeno <seconds_threshold> secondi di valori uguali\n",
    "    hand_type: D -> Mano dominante, ND -> Mano non dominante\n",
    "    \"\"\"\n",
    "    if hand_type != \"D\" and hand_type != \"ND\":\n",
    "        raise ValueError(\"hand_type deve essere 'D' o 'ND'\")\n",
    "    \n",
    "    campionamenti_per_secondo = 8 # l'accelerometro esegue 8 campionamenti al secondo\n",
    "    seconds_threshold = seconds_threshold*campionamenti_per_secondo\n",
    "\n",
    "    df_diff = accelerometer_df[f'x_{hand_type}', f'y_{hand_type}', f'z_{hand_type}'].diff()\n",
    "    anomalies = df_diff.rolling(window=seconds_threshold).apply(lambda x: all(num == 0 for num in x)) # Recupera le righe che hanno almeno 5 secondi di valori uguali\n",
    "    anomaly_rows = accelerometer_df[anomalies.any(axis=1)]\n",
    "    return anomaly_rows"
   ]
  },
  {
   "cell_type": "code",
   "execution_count": null,
   "metadata": {},
   "outputs": [],
   "source": [
    "df = pd.read_csv(\"../raw_data/1_week_RAW.csv\")"
   ]
  },
  {
   "cell_type": "code",
   "execution_count": null,
   "metadata": {},
   "outputs": [],
   "source": [
    "df1 = pd.read_csv(\"../raw_data/1_week_RAW.csv\", nrows=691200, skiprows=lambda x: x in [1, 691200])"
   ]
  },
  {
   "cell_type": "code",
   "execution_count": null,
   "metadata": {},
   "outputs": [],
   "source": [
    "df2 = pd.read_csv(\"../raw_data/1_week_RAW.csv\", nrows=691200, skiprows=lambda x: x in [1, 691200*2])"
   ]
  },
  {
   "cell_type": "code",
   "execution_count": null,
   "metadata": {},
   "outputs": [],
   "source": [
    "df.describe()"
   ]
  },
  {
   "cell_type": "code",
   "execution_count": null,
   "metadata": {},
   "outputs": [],
   "source": [
    "df1.describe()"
   ]
  },
  {
   "cell_type": "code",
   "execution_count": null,
   "metadata": {},
   "outputs": [],
   "source": [
    "plt.figure(figsize=(18,6))\n",
    "plt.plot(df['x_ND'])\n",
    "\n",
    "plt.show()"
   ]
  },
  {
   "cell_type": "markdown",
   "metadata": {},
   "source": [
    "# Add a comment here to describe the code and the work done ASAP\n",
    "\n"
   ]
  },
  {
   "cell_type": "code",
   "execution_count": null,
   "metadata": {},
   "outputs": [],
   "source": [
    "def detect_anomalies(accelerometer_df: pd.DataFrame, hand_type: str, seconds_threshold: int = 28800) -> pd.DataFrame:\n",
    "    \"\"\"\n",
    "    Restituisce le entry del dataframe che hanno almeno <seconds_threshold> secondi di valori uguali\n",
    "    hand_type: D -> Mano dominante, ND -> Mano non dominante\n",
    "    \"\"\"\n",
    "    if hand_type != \"D\" and hand_type != \"ND\":\n",
    "        raise ValueError(\"hand_type deve essere 'D' o 'ND'\")\n",
    "    \n",
    "    df_diff = accelerometer_df[[f'x_{hand_type}', f'y_{hand_type}', f'z_{hand_type}']].diff()\n",
    "    anomalies = df_diff.rolling(window=seconds_threshold).apply(lambda x: all(abs(num) <= 0.05 for num in x)) # Recupera le righe che hanno almeno 5 secondi di valori uguali\n",
    "    anomaly_rows = accelerometer_df[anomalies.any(axis=1)]\n",
    "    return anomaly_rows"
   ]
  },
  {
   "cell_type": "code",
   "execution_count": null,
   "metadata": {},
   "outputs": [],
   "source": [
    "\n",
    "indexes = []\n",
    "\n",
    "for i in range(0, 24):\n",
    "    if i != 0:\n",
    "        if (df2[\"x_D\"].iloc[691200*i:691200*(i+1)].std()<0.01) and (df2[\"y_D\"].iloc[691200*i:691200*(i+1)].std()<0.01) and(df2[\"z_D\"].iloc[691200*i:691200*(i+1)].std()<0.01) and(df2[\"x_ND\"].iloc[691200*i:691200*(i+1)].std()<0.01) and(df2[\"y_ND\"].iloc[691200*i:691200*(i+1)].std()<0.01) and (df2[\"z_ND\"].iloc[691200*i:691200*(i+1)].std()<0.01):\n",
    "            indexes.append(i)\n",
    "    else:\n",
    "        if (df2[\"x_D\"].iloc[i:691200].std()<0.01) and (df2[\"y_D\"].iloc[i:691200].std()<0.01) and (df2[\"z_D\"].iloc[i:691200].std()<0.01) and (df2[\"x_ND\"].iloc[i:691200].std()<0.01) and (df2[\"y_ND\"].iloc[i:691200].std()<0.01) and (df2[\"z_ND\"].iloc[i:691200].std()<0.01):\n",
    "            indexes.append(i)\n",
    "\n",
    "# Describe above code: ?????\n",
    "print(indexes)"
   ]
  },
  {
   "cell_type": "code",
   "execution_count": null,
   "metadata": {},
   "outputs": [],
   "source": [
    "# This should do the samw as the code above\n",
    "\n",
    "indexes_rewritten = []\n",
    "HOURS = 24\n",
    "SAMPLE_RATE = 8\n",
    "TIME_INTERVAL = 60*60*SAMPLE_RATE\n",
    "\n",
    "columns = [\"x_D\", \"y_D\", \"z_D\", \"x_ND\", \"y_ND\", \"z_ND\"]\n",
    "\n",
    "for i in range(HOURS):\n",
    "    start = i * TIME_INTERVAL\n",
    "    end = (i + 1) * TIME_INTERVAL if i != 0 else TIME_INTERVAL\n",
    "    if all(df2[col].iloc[start:end].std() < 0.01 for col in columns):\n",
    "        indexes_rewritten.append(i)\n",
    "        \n",
    "print(indexes_rewritten)"
   ]
  },
  {
   "cell_type": "code",
   "execution_count": null,
   "metadata": {},
   "outputs": [],
   "source": [
    "indexes2 = []\n",
    "for i in range(0,24):\n",
    "    if i != 0:\n",
    "        if (df1[\"x_D\"].iloc[691200*i:691200*(i+1)].std()<0.05) and (df1[\"y_D\"].iloc[691200*i:691200*(i+1)].std()<0.05) and (df1[\"z_D\"].iloc[691200*i:691200*(i+1)].std()<0.05) and (df1[\"x_ND\"].iloc[691200*i:691200*(i+1)].std()<0.05) and (df1[\"y_ND\"].iloc[691200*i:691200*(i+1)].std()<0.05) and (df1[\"z_ND\"].iloc[691200*i:691200*(i+1)].std()<0.05):\n",
    "            indexes2.append(i)\n",
    "    else:\n",
    "        if (df1[\"x_D\"].iloc[i:691200].std()<0.05) and (df1[\"y_D\"].iloc[i:691200].std()<0.05) and (df1[\"z_D\"].iloc[i:691200].std()<0.05) and (df1[\"x_ND\"].iloc[i:691200].std()<0.05) and (df1[\"y_ND\"].iloc[i:691200].std()<0.05) and (df1[\"z_ND\"].iloc[i:691200].std()<0.01):\n",
    "            indexes2.append(i)\n",
    "\n",
    "print(indexes2)"
   ]
  },
  {
   "cell_type": "code",
   "execution_count": null,
   "metadata": {},
   "outputs": [],
   "source": [
    "# This should do the samw as the code above\n",
    "\n",
    "indexes2_rewritten = []\n",
    "HOURS = 24\n",
    "SAMPLE_RATE = 8\n",
    "TIME_INTERVAL = 60*60*SAMPLE_RATE\n",
    "columns = [\"x_D\", \"y_D\", \"z_D\", \"x_ND\", \"y_ND\", \"z_ND\"]\n",
    "\n",
    "for i in range(HOURS):\n",
    "    start = i * TIME_INTERVAL\n",
    "    end = (i + 1) * TIME_INTERVAL if i != 0 else TIME_INTERVAL\n",
    "    if all(df1[col].iloc[start:end].std() < 0.05 for col in columns):\n",
    "        indexes2_rewritten.append(i) "
   ]
  },
  {
   "cell_type": "code",
   "execution_count": null,
   "metadata": {},
   "outputs": [],
   "source": [
    "detect_anomalies(df1, \"ND\", 28800)"
   ]
  },
  {
   "cell_type": "code",
   "execution_count": null,
   "metadata": {},
   "outputs": [],
   "source": [
    "magnitude_D = np.sqrt(np.square(df['x_D']) + np.square(df['y_D']) + np.square(df['z_D'])) #mano dominante\n",
    "magnitude_ND = np.sqrt(np.square(df['x_ND']) + np.square(df['y_ND']) + np.square(df['z_ND'])) #mano non dominante"
   ]
  },
  {
   "cell_type": "code",
   "execution_count": null,
   "metadata": {},
   "outputs": [],
   "source": [
    "plt.figure(figsize=(30,20))\n",
    "plt.plot(magnitude_D)\n",
    "\n",
    "plt.show()"
   ]
  }
 ],
 "metadata": {
  "kernelspec": {
   "display_name": "Python 3",
   "language": "python",
   "name": "python3"
  },
  "language_info": {
   "codemirror_mode": {
    "name": "ipython",
    "version": 3
   },
   "file_extension": ".py",
   "mimetype": "text/x-python",
   "name": "python",
   "nbconvert_exporter": "python",
   "pygments_lexer": "ipython3",
   "version": "3.10.12"
  }
 },
 "nbformat": 4,
 "nbformat_minor": 2
}
