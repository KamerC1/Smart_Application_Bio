{
 "cells": [
  {
   "cell_type": "markdown",
   "metadata": {},
   "source": [
    "We import the main libraries we will be working with."
   ]
  },
  {
   "cell_type": "code",
   "execution_count": 2,
   "metadata": {},
   "outputs": [],
   "source": [
    "import numpy as np\n",
    "import matplotlib.pyplot as plt\n",
    "import pandas as pd\n",
    "\n",
    "#to view pandas dataframes by scrolling horizontally\n",
    "pd.options.display.max_columns = None"
   ]
  },
  {
   "cell_type": "markdown",
   "metadata": {},
   "source": [
    "We import the week dataset file and save it in the **week_data** dataframe."
   ]
  },
  {
   "cell_type": "code",
   "execution_count": 3,
   "metadata": {},
   "outputs": [
    {
     "data": {
      "text/html": [
       "<div>\n",
       "<style scoped>\n",
       "    .dataframe tbody tr th:only-of-type {\n",
       "        vertical-align: middle;\n",
       "    }\n",
       "\n",
       "    .dataframe tbody tr th {\n",
       "        vertical-align: top;\n",
       "    }\n",
       "\n",
       "    .dataframe thead th {\n",
       "        text-align: right;\n",
       "    }\n",
       "</style>\n",
       "<table border=\"1\" class=\"dataframe\">\n",
       "  <thead>\n",
       "    <tr style=\"text-align: right;\">\n",
       "      <th></th>\n",
       "      <th>datetime</th>\n",
       "      <th>x_D</th>\n",
       "      <th>y_D</th>\n",
       "      <th>z_D</th>\n",
       "      <th>x_ND</th>\n",
       "      <th>y_ND</th>\n",
       "      <th>z_ND</th>\n",
       "    </tr>\n",
       "  </thead>\n",
       "  <tbody>\n",
       "    <tr>\n",
       "      <th>0</th>\n",
       "      <td>2017-05-04 00:00:00.000000</td>\n",
       "      <td>-0.949</td>\n",
       "      <td>0.035</td>\n",
       "      <td>0.273</td>\n",
       "      <td>-0.957</td>\n",
       "      <td>0.008</td>\n",
       "      <td>0.277</td>\n",
       "    </tr>\n",
       "    <tr>\n",
       "      <th>1</th>\n",
       "      <td>2017-05-04 00:00:00.012500</td>\n",
       "      <td>-0.953</td>\n",
       "      <td>0.027</td>\n",
       "      <td>0.273</td>\n",
       "      <td>-0.957</td>\n",
       "      <td>0.000</td>\n",
       "      <td>0.277</td>\n",
       "    </tr>\n",
       "    <tr>\n",
       "      <th>2</th>\n",
       "      <td>2017-05-04 00:00:00.025000</td>\n",
       "      <td>-0.953</td>\n",
       "      <td>0.027</td>\n",
       "      <td>0.266</td>\n",
       "      <td>-0.961</td>\n",
       "      <td>0.000</td>\n",
       "      <td>0.270</td>\n",
       "    </tr>\n",
       "    <tr>\n",
       "      <th>3</th>\n",
       "      <td>2017-05-04 00:00:00.037500</td>\n",
       "      <td>-0.949</td>\n",
       "      <td>0.023</td>\n",
       "      <td>0.266</td>\n",
       "      <td>-0.957</td>\n",
       "      <td>0.000</td>\n",
       "      <td>0.273</td>\n",
       "    </tr>\n",
       "    <tr>\n",
       "      <th>4</th>\n",
       "      <td>2017-05-04 00:00:00.050000</td>\n",
       "      <td>-0.949</td>\n",
       "      <td>0.023</td>\n",
       "      <td>0.270</td>\n",
       "      <td>-0.957</td>\n",
       "      <td>-0.004</td>\n",
       "      <td>0.273</td>\n",
       "    </tr>\n",
       "  </tbody>\n",
       "</table>\n",
       "</div>"
      ],
      "text/plain": [
       "                     datetime    x_D    y_D    z_D   x_ND   y_ND   z_ND\n",
       "0  2017-05-04 00:00:00.000000 -0.949  0.035  0.273 -0.957  0.008  0.277\n",
       "1  2017-05-04 00:00:00.012500 -0.953  0.027  0.273 -0.957  0.000  0.277\n",
       "2  2017-05-04 00:00:00.025000 -0.953  0.027  0.266 -0.961  0.000  0.270\n",
       "3  2017-05-04 00:00:00.037500 -0.949  0.023  0.266 -0.957  0.000  0.273\n",
       "4  2017-05-04 00:00:00.050000 -0.949  0.023  0.270 -0.957 -0.004  0.273"
      ]
     },
     "execution_count": 3,
     "metadata": {},
     "output_type": "execute_result"
    }
   ],
   "source": [
    "week_data = pd.read_csv(\"../raw_data/1_week_RAW.csv\")\n",
    "\n",
    "week_data.head()"
   ]
  },
  {
   "cell_type": "markdown",
   "metadata": {},
   "source": [
    "We use the **info()** function of pandas to get the information about all the columns in the dataframe."
   ]
  },
  {
   "cell_type": "code",
   "execution_count": 36,
   "metadata": {},
   "outputs": [
    {
     "name": "stdout",
     "output_type": "stream",
     "text": [
      "<class 'pandas.core.frame.DataFrame'>\n",
      "RangeIndex: 41472000 entries, 0 to 41471999\n",
      "Data columns (total 7 columns):\n",
      " #   Column    Dtype  \n",
      "---  ------    -----  \n",
      " 0   datetime  object \n",
      " 1   x_D       float64\n",
      " 2   y_D       float64\n",
      " 3   z_D       float64\n",
      " 4   x_ND      float64\n",
      " 5   y_ND      float64\n",
      " 6   z_ND      float64\n",
      "dtypes: float64(6), object(1)\n",
      "memory usage: 2.2+ GB\n"
     ]
    }
   ],
   "source": [
    "week_data.info()"
   ]
  },
  {
   "cell_type": "markdown",
   "metadata": {},
   "source": [
    "We transform the *datetime* column from object to datetime so that we can more easily deal with this data through functions that already exist in pandas."
   ]
  },
  {
   "cell_type": "code",
   "execution_count": 4,
   "metadata": {},
   "outputs": [
    {
     "name": "stdout",
     "output_type": "stream",
     "text": [
      "<class 'pandas.core.series.Series'>\n",
      "RangeIndex: 41472000 entries, 0 to 41471999\n",
      "Series name: datetime\n",
      "Non-Null Count     Dtype         \n",
      "--------------     -----         \n",
      "41472000 non-null  datetime64[ns]\n",
      "dtypes: datetime64[ns](1)\n",
      "memory usage: 316.4 MB\n"
     ]
    }
   ],
   "source": [
    "week_data['datetime'] = pd.to_datetime(week_data['datetime'], format='%Y-%m-%d %H:%M:%S.%f')\n",
    "\n",
    "week_data[\"datetime\"].info()"
   ]
  },
  {
   "cell_type": "markdown",
   "metadata": {},
   "source": [
    "We compute the **magnitude** for both the dominant and non dominant hand."
   ]
  },
  {
   "cell_type": "code",
   "execution_count": 5,
   "metadata": {},
   "outputs": [],
   "source": [
    "week_data['magnitude_D'] = np.sqrt(week_data['x_D']**2 + week_data['y_D']**2 + week_data['z_D']**2)\n",
    "week_data['magnitude_ND'] = np.sqrt(week_data['x_ND']**2 + week_data['y_ND']**2 + week_data['z_ND']**2)"
   ]
  },
  {
   "cell_type": "markdown",
   "metadata": {},
   "source": [
    "We compute the **asimettry index** using this formula:\n",
    "\n",
    "$$ \\frac{\\text{magnitude}_\\text{D} - \\text{magnitude}_{\\text{ND}}}{\\text{magnitude}_\\text{D} + \\text{magnitude}_{\\text{ND}}} \\cdot 100$$"
   ]
  },
  {
   "cell_type": "code",
   "execution_count": 6,
   "metadata": {},
   "outputs": [],
   "source": [
    "week_data[\"AI\"]=(((week_data['magnitude_D'] - week_data['magnitude_ND']) / (week_data['magnitude_D'] + week_data['magnitude_ND'])) * 100).fillna(0)"
   ]
  },
  {
   "cell_type": "markdown",
   "metadata": {},
   "source": [
    "We split *datetime* column in three new columns: *year*, *month*, *day*."
   ]
  },
  {
   "cell_type": "code",
   "execution_count": 7,
   "metadata": {},
   "outputs": [],
   "source": [
    "week_data['year'] = week_data['datetime'].dt.year\n",
    "week_data['month'] = week_data['datetime'].dt.month\n",
    "week_data['day'] = week_data['datetime'].dt.day"
   ]
  },
  {
   "cell_type": "markdown",
   "metadata": {},
   "source": [
    "We resort the columns of the dataframe. In this way we have a clearer dataframe that reports the most important information at the beginning."
   ]
  },
  {
   "cell_type": "code",
   "execution_count": 8,
   "metadata": {},
   "outputs": [
    {
     "data": {
      "text/html": [
       "<div>\n",
       "<style scoped>\n",
       "    .dataframe tbody tr th:only-of-type {\n",
       "        vertical-align: middle;\n",
       "    }\n",
       "\n",
       "    .dataframe tbody tr th {\n",
       "        vertical-align: top;\n",
       "    }\n",
       "\n",
       "    .dataframe thead th {\n",
       "        text-align: right;\n",
       "    }\n",
       "</style>\n",
       "<table border=\"1\" class=\"dataframe\">\n",
       "  <thead>\n",
       "    <tr style=\"text-align: right;\">\n",
       "      <th></th>\n",
       "      <th>datetime</th>\n",
       "      <th>year</th>\n",
       "      <th>month</th>\n",
       "      <th>day</th>\n",
       "      <th>AI</th>\n",
       "      <th>magnitude_D</th>\n",
       "      <th>magnitude_ND</th>\n",
       "      <th>x_D</th>\n",
       "      <th>y_D</th>\n",
       "      <th>z_D</th>\n",
       "      <th>x_ND</th>\n",
       "      <th>y_ND</th>\n",
       "      <th>z_ND</th>\n",
       "    </tr>\n",
       "  </thead>\n",
       "  <tbody>\n",
       "    <tr>\n",
       "      <th>0</th>\n",
       "      <td>2017-05-04 00:00:00.000000</td>\n",
       "      <td>2017</td>\n",
       "      <td>5</td>\n",
       "      <td>4</td>\n",
       "      <td>-0.413593</td>\n",
       "      <td>0.988107</td>\n",
       "      <td>0.996314</td>\n",
       "      <td>-0.949</td>\n",
       "      <td>0.035</td>\n",
       "      <td>0.273</td>\n",
       "      <td>-0.957</td>\n",
       "      <td>0.008</td>\n",
       "      <td>0.277</td>\n",
       "    </tr>\n",
       "    <tr>\n",
       "      <th>1</th>\n",
       "      <td>2017-05-04 00:00:00.012500</td>\n",
       "      <td>2017</td>\n",
       "      <td>5</td>\n",
       "      <td>4</td>\n",
       "      <td>-0.230537</td>\n",
       "      <td>0.991699</td>\n",
       "      <td>0.996282</td>\n",
       "      <td>-0.953</td>\n",
       "      <td>0.027</td>\n",
       "      <td>0.273</td>\n",
       "      <td>-0.957</td>\n",
       "      <td>0.000</td>\n",
       "      <td>0.277</td>\n",
       "    </tr>\n",
       "    <tr>\n",
       "      <th>2</th>\n",
       "      <td>2017-05-04 00:00:00.025000</td>\n",
       "      <td>2017</td>\n",
       "      <td>5</td>\n",
       "      <td>4</td>\n",
       "      <td>-0.423237</td>\n",
       "      <td>0.989795</td>\n",
       "      <td>0.998209</td>\n",
       "      <td>-0.953</td>\n",
       "      <td>0.027</td>\n",
       "      <td>0.266</td>\n",
       "      <td>-0.961</td>\n",
       "      <td>0.000</td>\n",
       "      <td>0.270</td>\n",
       "    </tr>\n",
       "    <tr>\n",
       "      <th>3</th>\n",
       "      <td>2017-05-04 00:00:00.037500</td>\n",
       "      <td>2017</td>\n",
       "      <td>5</td>\n",
       "      <td>4</td>\n",
       "      <td>-0.471201</td>\n",
       "      <td>0.985843</td>\n",
       "      <td>0.995177</td>\n",
       "      <td>-0.949</td>\n",
       "      <td>0.023</td>\n",
       "      <td>0.266</td>\n",
       "      <td>-0.957</td>\n",
       "      <td>0.000</td>\n",
       "      <td>0.273</td>\n",
       "    </tr>\n",
       "    <tr>\n",
       "      <th>4</th>\n",
       "      <td>2017-05-04 00:00:00.050000</td>\n",
       "      <td>2017</td>\n",
       "      <td>5</td>\n",
       "      <td>4</td>\n",
       "      <td>-0.416516</td>\n",
       "      <td>0.986930</td>\n",
       "      <td>0.995185</td>\n",
       "      <td>-0.949</td>\n",
       "      <td>0.023</td>\n",
       "      <td>0.270</td>\n",
       "      <td>-0.957</td>\n",
       "      <td>-0.004</td>\n",
       "      <td>0.273</td>\n",
       "    </tr>\n",
       "  </tbody>\n",
       "</table>\n",
       "</div>"
      ],
      "text/plain": [
       "                    datetime  year  month  day        AI  magnitude_D  \\\n",
       "0 2017-05-04 00:00:00.000000  2017      5    4 -0.413593     0.988107   \n",
       "1 2017-05-04 00:00:00.012500  2017      5    4 -0.230537     0.991699   \n",
       "2 2017-05-04 00:00:00.025000  2017      5    4 -0.423237     0.989795   \n",
       "3 2017-05-04 00:00:00.037500  2017      5    4 -0.471201     0.985843   \n",
       "4 2017-05-04 00:00:00.050000  2017      5    4 -0.416516     0.986930   \n",
       "\n",
       "   magnitude_ND    x_D    y_D    z_D   x_ND   y_ND   z_ND  \n",
       "0      0.996314 -0.949  0.035  0.273 -0.957  0.008  0.277  \n",
       "1      0.996282 -0.953  0.027  0.273 -0.957  0.000  0.277  \n",
       "2      0.998209 -0.953  0.027  0.266 -0.961  0.000  0.270  \n",
       "3      0.995177 -0.949  0.023  0.266 -0.957  0.000  0.273  \n",
       "4      0.995185 -0.949  0.023  0.270 -0.957 -0.004  0.273  "
      ]
     },
     "execution_count": 8,
     "metadata": {},
     "output_type": "execute_result"
    }
   ],
   "source": [
    "new_order=['datetime', 'year', 'month', 'day', 'AI', 'magnitude_D', 'magnitude_ND', 'x_D', 'y_D', 'z_D', 'x_ND', 'y_ND', 'z_ND']\n",
    "\n",
    "week_data=week_data[new_order]\n",
    "\n",
    "week_data.head()"
   ]
  },
  {
   "cell_type": "markdown",
   "metadata": {},
   "source": [
    "## Semaphore index\n",
    "\n",
    "At this point we would like to find an index for the semaphore. Our idea follows roughly along these lines. First we calculate the median of the asymmetry index over the six days - which in this case we assume to be our training set, but later we will justify the operation better. Once this median is calculated we use it as a reference. In fact this median would be the **expected asymmetry index** that we expect to find in the patient. At this point, for each day - of course we assume we are working over a much wider time range than 6 days - we compute the average of the patient's asymmetry index and compare it to the median. If it deviates too much, the semaphore light will be red. If it deviates, but within a certain range, the semaphore light will be orange. If it is very close to the expected value, the semaphore light will be green. \n",
    "\n",
    "Before explaining in detail how this range works, let us go through a clarification. The median that we calculate below we assume we have a priori - like the AHA, the expected asymmetry index of each patient will be entered in the table found in **metadata2022_o04**, so there will be no need to calculate it. The fact that we calculate the median over all the data should therefore not frighten us; we are simply assuming that this is our baseline for a much larger work - whose data we clearly do not have, but in which the code works just fine."
   ]
  },
  {
   "cell_type": "code",
   "execution_count": 44,
   "metadata": {},
   "outputs": [
    {
     "name": "stdout",
     "output_type": "stream",
     "text": [
      "-0.020795431128620073\n"
     ]
    }
   ],
   "source": [
    "median=week_data['AI'].median()\n",
    "\n",
    "print(median)"
   ]
  },
  {
   "cell_type": "markdown",
   "metadata": {},
   "source": [
    "To get a sense of how our code will then work and how the ranges will be defined let us then do a simulation. So we first compute the mean of the asimmetry index for each day and save it in a new dataframe called **week_data_by_day**."
   ]
  },
  {
   "cell_type": "code",
   "execution_count": 9,
   "metadata": {},
   "outputs": [
    {
     "data": {
      "text/html": [
       "<div>\n",
       "<style scoped>\n",
       "    .dataframe tbody tr th:only-of-type {\n",
       "        vertical-align: middle;\n",
       "    }\n",
       "\n",
       "    .dataframe tbody tr th {\n",
       "        vertical-align: top;\n",
       "    }\n",
       "\n",
       "    .dataframe thead th {\n",
       "        text-align: right;\n",
       "    }\n",
       "</style>\n",
       "<table border=\"1\" class=\"dataframe\">\n",
       "  <thead>\n",
       "    <tr style=\"text-align: right;\">\n",
       "      <th></th>\n",
       "      <th>year</th>\n",
       "      <th>month</th>\n",
       "      <th>day</th>\n",
       "      <th>AI</th>\n",
       "    </tr>\n",
       "  </thead>\n",
       "  <tbody>\n",
       "    <tr>\n",
       "      <th>0</th>\n",
       "      <td>2017</td>\n",
       "      <td>5</td>\n",
       "      <td>4</td>\n",
       "      <td>0.853767</td>\n",
       "    </tr>\n",
       "    <tr>\n",
       "      <th>1</th>\n",
       "      <td>2017</td>\n",
       "      <td>5</td>\n",
       "      <td>5</td>\n",
       "      <td>-0.411470</td>\n",
       "    </tr>\n",
       "    <tr>\n",
       "      <th>2</th>\n",
       "      <td>2017</td>\n",
       "      <td>5</td>\n",
       "      <td>6</td>\n",
       "      <td>-0.041722</td>\n",
       "    </tr>\n",
       "    <tr>\n",
       "      <th>3</th>\n",
       "      <td>2017</td>\n",
       "      <td>5</td>\n",
       "      <td>7</td>\n",
       "      <td>-0.177609</td>\n",
       "    </tr>\n",
       "    <tr>\n",
       "      <th>4</th>\n",
       "      <td>2017</td>\n",
       "      <td>5</td>\n",
       "      <td>8</td>\n",
       "      <td>0.021350</td>\n",
       "    </tr>\n",
       "    <tr>\n",
       "      <th>5</th>\n",
       "      <td>2017</td>\n",
       "      <td>5</td>\n",
       "      <td>9</td>\n",
       "      <td>-0.219281</td>\n",
       "    </tr>\n",
       "  </tbody>\n",
       "</table>\n",
       "</div>"
      ],
      "text/plain": [
       "   year  month  day        AI\n",
       "0  2017      5    4  0.853767\n",
       "1  2017      5    5 -0.411470\n",
       "2  2017      5    6 -0.041722\n",
       "3  2017      5    7 -0.177609\n",
       "4  2017      5    8  0.021350\n",
       "5  2017      5    9 -0.219281"
      ]
     },
     "execution_count": 9,
     "metadata": {},
     "output_type": "execute_result"
    }
   ],
   "source": [
    "week_data_by_day=week_data.groupby(['year', 'month', 'day']).agg({\n",
    "    'AI' : 'mean'\n",
    "}).reset_index()\n",
    "\n",
    "week_data_by_day"
   ]
  },
  {
   "cell_type": "markdown",
   "metadata": {},
   "source": [
    "At this point we move on to print the **box plot** which allows us to show graphically how the outliers will be detected and thus the semaphore index values. In general, the box plot shows the following:\n",
    "\n",
    "- **Quartiles and Median**: The center rectangle of the box plot represents the middle 50% of the data and is divided into two equal parts by quartiles Q1 and Q3. The line inside the rectangle represents the median (Q2) - the one calculated above - which is the value separating the bottom 50% from the top 50% of the data.\n",
    "- **Whiskers**: Whiskers extend from the quartiles to the minimum and maximum observations that fall within a certain distance of the quartiles. Whisker length is often calculated as 1.5 times the interquartile range (IQR), which is the difference between the first and third quartiles (IQR = Q3 - Q1). \n",
    "- **Outliers**: Points identified outside the whiskers are considered outliers and are represented as individual points.\n",
    "- **General Appearance**: Box plots provide insight into the distribution of the data, highlighting the presence of outliers and providing an idea of the symmetry of the distribution.\n",
    "\n",
    "In our case, therefore, we will do the following:\n",
    "- First we print both the points that fall outside the whiskers and the points that fall inside the whiskers but outside the box.\n",
    "- If the dots fall outside the whiskers these are outliers. On days when this happens so we say that our semaphore will be red.\n",
    "- Instead, if the points fall inside the whiskers but outside the box we will say that these are data that deviate from the median but not too much. On days when this happens we then say that our semaphore will be orange.\n",
    "- Finally, if the points fall inside the box these are clearly very close to the expected asymmetry index. On days when this happens so we set the semaphore as green.\n",
    "\n",
    "We then note that the whiskers are used to compute the range that allows us to understand whether the points that differ from the median are not far enough away to be called outliers - and thus to set the semaphore red. We conclude by saying that these operations done through the **seaborn** library can be calculated simply using the basic operations, and that the use of this library is for visual purposes only. "
   ]
  },
  {
   "cell_type": "code",
   "execution_count": 10,
   "metadata": {},
   "outputs": [
    {
     "data": {
      "image/png": "[encoded data removed]",
      "text/plain": [
       "<Figure size 640x480 with 1 Axes>"
      ]
     },
     "metadata": {},
     "output_type": "display_data"
    }
   ],
   "source": [
    "import seaborn as sns\n",
    "import matplotlib.pyplot as plt\n",
    "\n",
    "columns_of_interest = ['AI']\n",
    "data_to_plot = week_data_by_day[columns_of_interest]\n",
    "\n",
    "# Crea un box plot con solo i punti che cadono all'interno dei whiskers ma fuori dal box\n",
    "ax = sns.boxplot(data=data_to_plot, whis=1.5, showfliers=False)\n",
    "\n",
    "# Aggiungi i punti come punti separati sullo stesso grafico, solo quelli all'interno dei whiskers\n",
    "sns.swarmplot(data=data_to_plot, ax=ax, dodge=True)\n",
    "\n",
    "# Mostra il grafico\n",
    "plt.show()\n"
   ]
  }
 ],
 "metadata": {
  "kernelspec": {
   "display_name": "Python 3",
   "language": "python",
   "name": "python3"
  },
  "language_info": {
   "codemirror_mode": {
    "name": "ipython",
    "version": 3
   },
   "file_extension": ".py",
   "mimetype": "text/x-python",
   "name": "python",
   "nbconvert_exporter": "python",
   "pygments_lexer": "ipython3",
   "version": "3.11.3"
  }
 },
 "nbformat": 4,
 "nbformat_minor": 2
}
