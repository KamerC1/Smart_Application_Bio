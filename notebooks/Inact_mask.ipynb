{
 "cells": [
  {
   "cell_type": "code",
   "execution_count": 1,
   "id": "b167f5f1",
   "metadata": {},
   "outputs": [],
   "source": [
    "import pandas as pd\n",
    "import numpy as np\n",
    "import matplotlib.pyplot as plt"
   ]
  },
  {
   "cell_type": "code",
   "execution_count": 2,
   "id": "7d390727",
   "metadata": {},
   "outputs": [],
   "source": [
    "import warnings"
   ]
  },
  {
   "cell_type": "code",
   "execution_count": 3,
   "id": "9d1a998e",
   "metadata": {},
   "outputs": [],
   "source": [
    "def _create_inactivity_mask(data, duration, threshold):\n",
    "\n",
    "    if duration is None:\n",
    "        return None\n",
    "\n",
    "    # Create the mask filled iwith ones by default.\n",
    "    mask = np.ones_like(data)\n",
    "\n",
    "    # If duration is -1, return a mask with 1s for later manual edition.\n",
    "    if duration == -1:\n",
    "        return pd.Series(mask, index=data.index)\n",
    "\n",
    "    # Binary data\n",
    "    binary_data = np.where(data >= threshold, 1, 0)\n",
    "\n",
    "    # The first order diff Series indicates the indices of the transitions\n",
    "    # between series of zeroes and series of ones.\n",
    "    # Add zero at the beginning of this series to mark the beginning of the\n",
    "    # first sequence found in the data.\n",
    "    edges = np.concatenate([[0], np.diff(binary_data)])\n",
    "\n",
    "    # Test if there is no edge (i.e. no consecutive zeroes).\n",
    "    if all(e == 0 for e in edges):\n",
    "        return pd.Series(mask, index=data.index)\n",
    "\n",
    "    # Indices of upper transitions (zero to one).\n",
    "    idx_plus_one = (edges > 0).nonzero()[0]\n",
    "    # Indices of lower transitions (one to zero).\n",
    "    idx_minus_one = (edges < 0).nonzero()[0]\n",
    "\n",
    "    # Even number of transitions.\n",
    "    if idx_plus_one.size == idx_minus_one.size:\n",
    "\n",
    "        # Start with zeros\n",
    "        if idx_plus_one[0] < idx_minus_one[0]:\n",
    "            starts = np.concatenate([[0], idx_minus_one])\n",
    "            ends = np.concatenate([idx_plus_one, [edges.size]])\n",
    "        else:\n",
    "            starts = idx_minus_one\n",
    "            ends = idx_plus_one\n",
    "    # Odd number of transitions\n",
    "    # starting with an upper transition\n",
    "    elif idx_plus_one.size > idx_minus_one.size:\n",
    "        starts = np.concatenate([[0], idx_minus_one])\n",
    "        ends = idx_plus_one\n",
    "    # starting with an lower transition\n",
    "    else:\n",
    "        starts = idx_minus_one\n",
    "        ends = np.concatenate([idx_plus_one, [edges.size]])\n",
    "\n",
    "    # Index pairs (start,end) of the sequences of zeroes\n",
    "    seq_idx = np.c_[starts, ends]\n",
    "    # Length of the aforementioned sequences\n",
    "    seq_len = ends - starts\n",
    "\n",
    "    for i in seq_idx[np.where(seq_len >= duration)]:\n",
    "        mask[i[0]:i[1]] = 0\n",
    "\n",
    "    return pd.Series(mask, index=data.index)"
   ]
  },
  {
   "cell_type": "code",
   "execution_count": 5,
   "id": "7f78a497",
   "metadata": {},
   "outputs": [
    {
     "data": {
      "text/html": [
       "<div>\n",
       "<style scoped>\n",
       "    .dataframe tbody tr th:only-of-type {\n",
       "        vertical-align: middle;\n",
       "    }\n",
       "\n",
       "    .dataframe tbody tr th {\n",
       "        vertical-align: top;\n",
       "    }\n",
       "\n",
       "    .dataframe thead th {\n",
       "        text-align: right;\n",
       "    }\n",
       "</style>\n",
       "<table border=\"1\" class=\"dataframe\">\n",
       "  <thead>\n",
       "    <tr style=\"text-align: right;\">\n",
       "      <th></th>\n",
       "      <th>datetime</th>\n",
       "      <th>x_D</th>\n",
       "      <th>y_D</th>\n",
       "      <th>z_D</th>\n",
       "      <th>x_ND</th>\n",
       "      <th>y_ND</th>\n",
       "      <th>z_ND</th>\n",
       "    </tr>\n",
       "  </thead>\n",
       "  <tbody>\n",
       "    <tr>\n",
       "      <th>0</th>\n",
       "      <td>2017-05-03 16:31:00.000000</td>\n",
       "      <td>-0.785</td>\n",
       "      <td>-0.086</td>\n",
       "      <td>-0.613</td>\n",
       "      <td>0.828</td>\n",
       "      <td>-0.051</td>\n",
       "      <td>0.531</td>\n",
       "    </tr>\n",
       "    <tr>\n",
       "      <th>1</th>\n",
       "      <td>2017-05-03 16:31:00.012500</td>\n",
       "      <td>-0.781</td>\n",
       "      <td>-0.090</td>\n",
       "      <td>-0.613</td>\n",
       "      <td>0.828</td>\n",
       "      <td>-0.059</td>\n",
       "      <td>0.531</td>\n",
       "    </tr>\n",
       "    <tr>\n",
       "      <th>2</th>\n",
       "      <td>2017-05-03 16:31:00.025000</td>\n",
       "      <td>-0.781</td>\n",
       "      <td>-0.090</td>\n",
       "      <td>-0.617</td>\n",
       "      <td>0.824</td>\n",
       "      <td>-0.055</td>\n",
       "      <td>0.527</td>\n",
       "    </tr>\n",
       "    <tr>\n",
       "      <th>3</th>\n",
       "      <td>2017-05-03 16:31:00.037500</td>\n",
       "      <td>-0.785</td>\n",
       "      <td>-0.090</td>\n",
       "      <td>-0.613</td>\n",
       "      <td>0.828</td>\n",
       "      <td>-0.055</td>\n",
       "      <td>0.531</td>\n",
       "    </tr>\n",
       "    <tr>\n",
       "      <th>4</th>\n",
       "      <td>2017-05-03 16:31:00.050000</td>\n",
       "      <td>-0.777</td>\n",
       "      <td>-0.094</td>\n",
       "      <td>-0.609</td>\n",
       "      <td>0.828</td>\n",
       "      <td>-0.059</td>\n",
       "      <td>0.527</td>\n",
       "    </tr>\n",
       "    <tr>\n",
       "      <th>...</th>\n",
       "      <td>...</td>\n",
       "      <td>...</td>\n",
       "      <td>...</td>\n",
       "      <td>...</td>\n",
       "      <td>...</td>\n",
       "      <td>...</td>\n",
       "      <td>...</td>\n",
       "    </tr>\n",
       "    <tr>\n",
       "      <th>95995</th>\n",
       "      <td>2017-05-03 16:50:59.937500</td>\n",
       "      <td>-0.918</td>\n",
       "      <td>0.180</td>\n",
       "      <td>0.211</td>\n",
       "      <td>0.480</td>\n",
       "      <td>-0.418</td>\n",
       "      <td>-0.711</td>\n",
       "    </tr>\n",
       "    <tr>\n",
       "      <th>95996</th>\n",
       "      <td>2017-05-03 16:50:59.950000</td>\n",
       "      <td>-0.934</td>\n",
       "      <td>0.215</td>\n",
       "      <td>0.176</td>\n",
       "      <td>0.508</td>\n",
       "      <td>-0.492</td>\n",
       "      <td>-0.680</td>\n",
       "    </tr>\n",
       "    <tr>\n",
       "      <th>95997</th>\n",
       "      <td>2017-05-03 16:50:59.962500</td>\n",
       "      <td>-0.922</td>\n",
       "      <td>0.168</td>\n",
       "      <td>0.121</td>\n",
       "      <td>0.598</td>\n",
       "      <td>-0.566</td>\n",
       "      <td>-0.660</td>\n",
       "    </tr>\n",
       "    <tr>\n",
       "      <th>95998</th>\n",
       "      <td>2017-05-03 16:50:59.975000</td>\n",
       "      <td>-0.871</td>\n",
       "      <td>0.074</td>\n",
       "      <td>0.082</td>\n",
       "      <td>0.664</td>\n",
       "      <td>-0.613</td>\n",
       "      <td>-0.656</td>\n",
       "    </tr>\n",
       "    <tr>\n",
       "      <th>95999</th>\n",
       "      <td>2017-05-03 16:50:59.987500</td>\n",
       "      <td>-0.859</td>\n",
       "      <td>0.035</td>\n",
       "      <td>0.074</td>\n",
       "      <td>0.672</td>\n",
       "      <td>-0.637</td>\n",
       "      <td>-0.656</td>\n",
       "    </tr>\n",
       "  </tbody>\n",
       "</table>\n",
       "<p>96000 rows × 7 columns</p>\n",
       "</div>"
      ],
      "text/plain": [
       "                         datetime    x_D    y_D    z_D   x_ND   y_ND   z_ND\n",
       "0      2017-05-03 16:31:00.000000 -0.785 -0.086 -0.613  0.828 -0.051  0.531\n",
       "1      2017-05-03 16:31:00.012500 -0.781 -0.090 -0.613  0.828 -0.059  0.531\n",
       "2      2017-05-03 16:31:00.025000 -0.781 -0.090 -0.617  0.824 -0.055  0.527\n",
       "3      2017-05-03 16:31:00.037500 -0.785 -0.090 -0.613  0.828 -0.055  0.531\n",
       "4      2017-05-03 16:31:00.050000 -0.777 -0.094 -0.609  0.828 -0.059  0.527\n",
       "...                           ...    ...    ...    ...    ...    ...    ...\n",
       "95995  2017-05-03 16:50:59.937500 -0.918  0.180  0.211  0.480 -0.418 -0.711\n",
       "95996  2017-05-03 16:50:59.950000 -0.934  0.215  0.176  0.508 -0.492 -0.680\n",
       "95997  2017-05-03 16:50:59.962500 -0.922  0.168  0.121  0.598 -0.566 -0.660\n",
       "95998  2017-05-03 16:50:59.975000 -0.871  0.074  0.082  0.664 -0.613 -0.656\n",
       "95999  2017-05-03 16:50:59.987500 -0.859  0.035  0.074  0.672 -0.637 -0.656\n",
       "\n",
       "[96000 rows x 7 columns]"
      ]
     },
     "execution_count": 5,
     "metadata": {},
     "output_type": "execute_result"
    }
   ],
   "source": [
    "import os\n",
    "\n",
    "file_path='../raw_data/'\n",
    "df = pd.read_csv(os.path.join(file_path,'1_AHA_RAW.csv'))\n",
    "\n",
    "df"
   ]
  },
  {
   "cell_type": "code",
   "execution_count": 6,
   "id": "64bfb56d",
   "metadata": {},
   "outputs": [
    {
     "data": {
      "text/plain": [
       "0       -0.785\n",
       "1       -0.781\n",
       "2       -0.781\n",
       "3       -0.785\n",
       "4       -0.777\n",
       "         ...  \n",
       "95995   -0.918\n",
       "95996   -0.934\n",
       "95997   -0.922\n",
       "95998   -0.871\n",
       "95999   -0.859\n",
       "Name: x_D, Length: 96000, dtype: float64"
      ]
     },
     "execution_count": 6,
     "metadata": {},
     "output_type": "execute_result"
    }
   ],
   "source": [
    "data=df['x_D']\n",
    "\n",
    "data"
   ]
  },
  {
   "cell_type": "code",
   "execution_count": 7,
   "id": "d21cd879",
   "metadata": {},
   "outputs": [
    {
     "data": {
      "text/plain": [
       "[<matplotlib.lines.Line2D at 0x26cc8f016d0>]"
      ]
     },
     "execution_count": 7,
     "metadata": {},
     "output_type": "execute_result"
    },
    {
     "data": {
      "image/png": "[encoded data removed]",
      "text/plain": [
       "<Figure size 640x480 with 1 Axes>"
      ]
     },
     "metadata": {},
     "output_type": "display_data"
    }
   ],
   "source": [
    "plt.plot(range(96000),data)"
   ]
  },
  {
   "cell_type": "code",
   "execution_count": 8,
   "id": "89ce9741",
   "metadata": {},
   "outputs": [],
   "source": [
    "mask=_create_inactivity_mask(data,duration=120,threshold=-0.6)"
   ]
  },
  {
   "cell_type": "code",
   "execution_count": 9,
   "id": "a61b2b0f",
   "metadata": {},
   "outputs": [
    {
     "data": {
      "text/plain": [
       "[<matplotlib.lines.Line2D at 0x26cca1a6c50>]"
      ]
     },
     "execution_count": 9,
     "metadata": {},
     "output_type": "execute_result"
    },
    {
     "data": {
      "image/png": "[encoded data removed]",
      "text/plain": [
       "<Figure size 640x480 with 1 Axes>"
      ]
     },
     "metadata": {},
     "output_type": "display_data"
    }
   ],
   "source": [
    "plt.plot(range(96000),mask)"
   ]
  }
 ],
 "metadata": {
  "kernelspec": {
   "display_name": "Python 3 (ipykernel)",
   "language": "python",
   "name": "python3"
  },
  "language_info": {
   "codemirror_mode": {
    "name": "ipython",
    "version": 3
   },
   "file_extension": ".py",
   "mimetype": "text/x-python",
   "name": "python",
   "nbconvert_exporter": "python",
   "pygments_lexer": "ipython3",
   "version": "3.11.5"
  }
 },
 "nbformat": 4,
 "nbformat_minor": 5
}
